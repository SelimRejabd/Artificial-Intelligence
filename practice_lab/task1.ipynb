{
 "cells": [
  {
   "cell_type": "code",
   "execution_count": 2,
   "metadata": {},
   "outputs": [],
   "source": [
    "from tensorflow.keras.layers import Input, Dense, Activation\n",
    "from tensorflow.keras.layers import Convolution2D, MaxPooling2D, Flatten\n",
    "from tensorflow.keras.models import Model\n",
    "from tensorflow.keras.utils import to_categorical, plot_model\n",
    "from tensorflow.keras.applications import vgg16, mobilenet"
   ]
  },
  {
   "cell_type": "markdown",
   "metadata": {},
   "source": [
    "### VGG16 model"
   ]
  },
  {
   "cell_type": "code",
   "execution_count": 3,
   "metadata": {},
   "outputs": [
    {
     "name": "stdout",
     "output_type": "stream",
     "text": [
      "WARNING:tensorflow:From c:\\Users\\salim\\AppData\\Local\\Programs\\Python\\Python311\\Lib\\site-packages\\keras\\src\\backend.py:1398: The name tf.executing_eagerly_outside_functions is deprecated. Please use tf.compat.v1.executing_eagerly_outside_functions instead.\n",
      "\n",
      "WARNING:tensorflow:From c:\\Users\\salim\\AppData\\Local\\Programs\\Python\\Python311\\Lib\\site-packages\\keras\\src\\layers\\pooling\\max_pooling2d.py:161: The name tf.nn.max_pool is deprecated. Please use tf.nn.max_pool2d instead.\n",
      "\n",
      "Model: \"vgg16\"\n",
      "_________________________________________________________________\n",
      " Layer (type)                Output Shape              Param #   \n",
      "=================================================================\n",
      " input_1 (InputLayer)        [(None, 224, 224, 3)]     0         \n",
      "                                                                 \n",
      " block1_conv1 (Conv2D)       (None, 224, 224, 64)      1792      \n",
      "                                                                 \n",
      " block1_conv2 (Conv2D)       (None, 224, 224, 64)      36928     \n",
      "                                                                 \n",
      " block1_pool (MaxPooling2D)  (None, 112, 112, 64)      0         \n",
      "                                                                 \n",
      " block2_conv1 (Conv2D)       (None, 112, 112, 128)     73856     \n",
      "                                                                 \n",
      " block2_conv2 (Conv2D)       (None, 112, 112, 128)     147584    \n",
      "                                                                 \n",
      " block2_pool (MaxPooling2D)  (None, 56, 56, 128)       0         \n",
      "                                                                 \n",
      " block3_conv1 (Conv2D)       (None, 56, 56, 256)       295168    \n",
      "                                                                 \n",
      " block3_conv2 (Conv2D)       (None, 56, 56, 256)       590080    \n",
      "                                                                 \n",
      " block3_conv3 (Conv2D)       (None, 56, 56, 256)       590080    \n",
      "                                                                 \n",
      " block3_pool (MaxPooling2D)  (None, 28, 28, 256)       0         \n",
      "                                                                 \n",
      " block4_conv1 (Conv2D)       (None, 28, 28, 512)       1180160   \n",
      "                                                                 \n",
      " block4_conv2 (Conv2D)       (None, 28, 28, 512)       2359808   \n",
      "                                                                 \n",
      " block4_conv3 (Conv2D)       (None, 28, 28, 512)       2359808   \n",
      "                                                                 \n",
      " block4_pool (MaxPooling2D)  (None, 14, 14, 512)       0         \n",
      "                                                                 \n",
      " block5_conv1 (Conv2D)       (None, 14, 14, 512)       2359808   \n",
      "                                                                 \n",
      " block5_conv2 (Conv2D)       (None, 14, 14, 512)       2359808   \n",
      "                                                                 \n",
      " block5_conv3 (Conv2D)       (None, 14, 14, 512)       2359808   \n",
      "                                                                 \n",
      " block5_pool (MaxPooling2D)  (None, 7, 7, 512)         0         \n",
      "                                                                 \n",
      " flatten (Flatten)           (None, 25088)             0         \n",
      "                                                                 \n",
      " fc1 (Dense)                 (None, 4096)              102764544 \n",
      "                                                                 \n",
      " fc2 (Dense)                 (None, 4096)              16781312  \n",
      "                                                                 \n",
      " predictions (Dense)         (None, 1000)              4097000   \n",
      "                                                                 \n",
      "=================================================================\n",
      "Total params: 138357544 (527.79 MB)\n",
      "Trainable params: 138357544 (527.79 MB)\n",
      "Non-trainable params: 0 (0.00 Byte)\n",
      "_________________________________________________________________\n"
     ]
    }
   ],
   "source": [
    "model = vgg16.VGG16()\n",
    "model.summary()"
   ]
  },
  {
   "cell_type": "markdown",
   "metadata": {},
   "source": [
    "### Creating VGG16 model manually"
   ]
  },
  {
   "cell_type": "code",
   "execution_count": 14,
   "metadata": {},
   "outputs": [
    {
     "name": "stdout",
     "output_type": "stream",
     "text": [
      "Model: \"VGG16 manually\"\n",
      "_________________________________________________________________\n",
      " Layer (type)                Output Shape              Param #   \n",
      "=================================================================\n",
      " InputLayer (InputLayer)     [(None, 224, 224, 3)]     0         \n",
      "                                                                 \n",
      " Convolution2D_1 (Conv2D)    (None, 224, 224, 64)      1792      \n",
      "                                                                 \n",
      " Convolution2D_2 (Conv2D)    (None, 224, 224, 64)      36928     \n",
      "                                                                 \n",
      " Maxpooling2D_1 (MaxPooling  (None, 112, 112, 64)      0         \n",
      " 2D)                                                             \n",
      "                                                                 \n",
      " Convolution2D_3 (Conv2D)    (None, 112, 112, 128)     73856     \n",
      "                                                                 \n",
      " Convolution2D_4 (Conv2D)    (None, 112, 112, 128)     147584    \n",
      "                                                                 \n",
      " Maxpooling2D_2 (MaxPooling  (None, 56, 56, 128)       0         \n",
      " 2D)                                                             \n",
      "                                                                 \n",
      " Convolution2D_5 (Conv2D)    (None, 56, 56, 256)       295168    \n",
      "                                                                 \n",
      " Convolution2D_6 (Conv2D)    (None, 56, 56, 256)       590080    \n",
      "                                                                 \n",
      " Convolution2D_7 (Conv2D)    (None, 56, 56, 256)       590080    \n",
      "                                                                 \n",
      " Maxpooling2D_3 (MaxPooling  (None, 28, 28, 256)       0         \n",
      " 2D)                                                             \n",
      "                                                                 \n",
      " Convolution2D_8 (Conv2D)    (None, 28, 28, 512)       1180160   \n",
      "                                                                 \n",
      " Convolution2D_9 (Conv2D)    (None, 28, 28, 512)       2359808   \n",
      "                                                                 \n",
      " Convolution2D_10 (Conv2D)   (None, 28, 28, 512)       2359808   \n",
      "                                                                 \n",
      " Maxpooling2D_4 (MaxPooling  (None, 14, 14, 512)       0         \n",
      " 2D)                                                             \n",
      "                                                                 \n",
      " Convolution2D_11 (Conv2D)   (None, 14, 14, 512)       2359808   \n",
      "                                                                 \n",
      " Convolution2D_12 (Conv2D)   (None, 14, 14, 512)       2359808   \n",
      "                                                                 \n",
      " Convolution2D_13 (Conv2D)   (None, 14, 14, 512)       2359808   \n",
      "                                                                 \n",
      " Maxpooling2D_5 (MaxPooling  (None, 7, 7, 512)         0         \n",
      " 2D)                                                             \n",
      "                                                                 \n",
      " flatten_7 (Flatten)         (None, 25088)             0         \n",
      "                                                                 \n",
      " dense_12 (Dense)            (None, 4096)              102764544 \n",
      "                                                                 \n",
      " dense_13 (Dense)            (None, 4096)              16781312  \n",
      "                                                                 \n",
      " OutputLayer (Dense)         (None, 1000)              4097000   \n",
      "                                                                 \n",
      "=================================================================\n",
      "Total params: 138357544 (527.79 MB)\n",
      "Trainable params: 138357544 (527.79 MB)\n",
      "Non-trainable params: 0 (0.00 Byte)\n",
      "_________________________________________________________________\n"
     ]
    }
   ],
   "source": [
    "inputs = Input((224, 224, 3), name='InputLayer')\n",
    "x = Convolution2D(filters = 64, kernel_size = (3,3), name = \"Convolution2D_1\", padding = 'same')(inputs)\n",
    "x = Convolution2D(filters = 64, kernel_size = (3,3), name = \"Convolution2D_2\", padding = 'same')(x)\n",
    "x = MaxPooling2D(name='Maxpooling2D_1')(x)\n",
    "\n",
    "x = Convolution2D(filters = 128, kernel_size = (3,3), name = \"Convolution2D_3\", padding = 'same')(x)\n",
    "x = Convolution2D(filters = 128, kernel_size = (3,3), name = \"Convolution2D_4\", padding = 'same')(x)\n",
    "x = MaxPooling2D(name='Maxpooling2D_2')(x)\n",
    "\n",
    "x = Convolution2D(filters = 256, kernel_size = (3,3), name = \"Convolution2D_5\", padding = 'same')(x)\n",
    "x = Convolution2D(filters = 256, kernel_size = (3,3), name = \"Convolution2D_6\", padding = 'same')(x)\n",
    "x = Convolution2D(filters = 256, kernel_size = (3,3), name = \"Convolution2D_7\", padding = 'same')(x)\n",
    "x = MaxPooling2D(name='Maxpooling2D_3')(x)\n",
    "\n",
    "x = Convolution2D(filters = 512, kernel_size = (3,3), name = \"Convolution2D_8\", padding = 'same')(x)\n",
    "x = Convolution2D(filters = 512, kernel_size = (3,3), name = \"Convolution2D_9\", padding = 'same')(x)\n",
    "x = Convolution2D(filters = 512, kernel_size = (3,3), name = \"Convolution2D_10\", padding = 'same')(x)\n",
    "x = MaxPooling2D(name='Maxpooling2D_4')(x)\n",
    "\n",
    "x = Convolution2D(filters = 512, kernel_size = (3,3), name = \"Convolution2D_11\", padding = 'same')(x)\n",
    "x = Convolution2D(filters = 512, kernel_size = (3,3), name = \"Convolution2D_12\", padding = 'same')(x)\n",
    "x = Convolution2D(filters = 512, kernel_size = (3,3), name = \"Convolution2D_13\", padding = 'same')(x)\n",
    "x = MaxPooling2D(name='Maxpooling2D_5')(x)\n",
    "\n",
    "x = Flatten()(x)\n",
    "\n",
    "x = Dense(4096, activation='sigmoid')(x)\n",
    "x = Dense(4096, activation='sigmoid')(x)\n",
    "outputs = Dense(1000, activation='sigmoid', name='OutputLayer')(x)\n",
    "model = Model(inputs, outputs, name='VGG16 manually')\n",
    "model.summary()"
   ]
  },
  {
   "cell_type": "markdown",
   "metadata": {},
   "source": [
    "### Copying vgg16 model's weight to my model"
   ]
  },
  {
   "cell_type": "code",
   "execution_count": 12,
   "metadata": {},
   "outputs": [],
   "source": [
    "vgg_model = vgg16.VGG16()\n",
    "\n",
    "for weight in range(len(model.layers)):\n",
    "    model.layers[weight].set_weights(vgg_model.layers[weight].get_weights())"
   ]
  }
 ],
 "metadata": {
  "kernelspec": {
   "display_name": "Python 3",
   "language": "python",
   "name": "python3"
  },
  "language_info": {
   "codemirror_mode": {
    "name": "ipython",
    "version": 3
   },
   "file_extension": ".py",
   "mimetype": "text/x-python",
   "name": "python",
   "nbconvert_exporter": "python",
   "pygments_lexer": "ipython3",
   "version": "3.11.4"
  }
 },
 "nbformat": 4,
 "nbformat_minor": 2
}
